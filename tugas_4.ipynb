{
  "nbformat": 4,
  "nbformat_minor": 0,
  "metadata": {
    "colab": {
      "provenance": []
    },
    "kernelspec": {
      "name": "python3",
      "display_name": "Python 3"
    },
    "language_info": {
      "name": "python"
    }
  },
  "cells": [
    {
      "cell_type": "code",
      "execution_count": null,
      "metadata": {
        "id": "FPHOKKJtJqvK"
      },
      "outputs": [],
      "source": [
        "\n",
        "import statistics\n",
        "import pandas as pd\n",
        "import numpy as np\n",
        "from scipy import stats\n"
      ]
    },
    {
      "cell_type": "code",
      "source": [
        "print(\"====soal 1====\")\n",
        "burger = 6\n",
        "pizza = 3\n",
        "dimsum = 4\n",
        "ekkado = 4 \n",
        "Milkshake = 2\n",
        "eskrim = 5\n",
        "hasil = (burger + pizza + dimsum + ekkado + Milkshake + eskrim )\n",
        "total = (burger * 24000) + (pizza * 52000) + (dimsum * 30000) + (ekkado * 7500) + (Milkshake * 10000) + (eskrim * 15000)\n",
        "print (\"maka jumlah keseluruhan adalah= \" + str(hasil))\n",
        "print (\"maka jumlah keseluruhan adalah= \" + str(total))\n",
        "print(\"====soal 2=====\")\n",
        "hasil = (burger + pizza + dimsum + ekkado + Milkshake + eskrim )\n",
        "print (\"maka jumlah keseluruhan adalah= \" + str(hasil))\n",
        "p_burger = burger / 24\n",
        "print(\"persentase burger \" + str(p_burger))\n",
        "p_pizza = pizza / 24\n",
        "print(\"persentase pizza \" + str(p_pizza))\n",
        "p_dimsum = dimsum / 24\n",
        "print(\"persentase dimsum \" + str(p_dimsum))\n",
        "p_ekkado = ekkado / 24\n",
        "print(\"persentase ekkado \" + str(p_ekkado))\n",
        "p_milkshake = Milkshake / 24\n",
        "print(\"persentase milkshake \" + str(p_milkshake))\n",
        "p_eskrim = eskrim / 24\n",
        "print(\"persentase eskrim \" + str(p_eskrim))\n",
        "\n",
        "\n",
        "\n"
      ],
      "metadata": {
        "id": "3KYi2d2cQ8Fy",
        "colab": {
          "base_uri": "https://localhost:8080/"
        },
        "outputId": "ec0b30b8-62e8-47e3-8f6a-cae762d41151"
      },
      "execution_count": null,
      "outputs": [
        {
          "output_type": "stream",
          "name": "stdout",
          "text": [
            "====soal 1====\n",
            "maka jumlah keseluruhan adalah= 24\n",
            "maka jumlah keseluruhan adalah= 545000\n",
            "====soal 2=====\n",
            "maka jumlah keseluruhan adalah= 24\n",
            "persentase burger 0.25\n",
            "persentase pizza 0.125\n",
            "persentase dimsum 0.16666666666666666\n",
            "persentase ekkado 0.16666666666666666\n",
            "persentase milkshake 0.08333333333333333\n",
            "persentase eskrim 0.20833333333333334\n"
          ]
        }
      ]
    },
    {
      "cell_type": "code",
      "source": [
        "import matplotlib.pyplot as plt\n",
        "#pie chart\n",
        "fig = plt.figure()\n",
        "ax = fig.add_axes([0,0,1,1])\n",
        "ax.axis('equal')\n",
        "plt.title(\"mengikuti tidak mengikuti\")\n",
        "nama = ['burger','pizza', 'dimsum', 'ekkado','milkshake','eskrim']\n",
        "hasil = [ 0.25, 0.125, 0.166, 0.166,  0.083, 0.208]\n",
        "ax.pie(hasil,labels=nama,autopct='%1.2f%%')\n",
        "plt.show()"
      ],
      "metadata": {
        "colab": {
          "base_uri": "https://localhost:8080/",
          "height": 335
        },
        "id": "eBYGzup-dX70",
        "outputId": "9ee12731-9c67-4f6d-cf2e-68057880fdf2"
      },
      "execution_count": null,
      "outputs": [
        {
          "output_type": "display_data",
          "data": {
            "text/plain": [
              "<Figure size 432x288 with 1 Axes>"
            ],
            "image/png": "[encoded data removed]"
          },
          "metadata": {}
        }
      ]
    },
    {
      "cell_type": "code",
      "source": [
        "\n",
        "print(\"====soal 4===\")\n",
        "print(\"====ahmad====\")\n",
        "burger = 4\n",
        "pizza = 2\n",
        "ahmad = (0.30 * ((burger * 24000) + (pizza * 52000))) +  5000\n",
        "print('total belanjaan ahmad adalah rp' + str(ahmad))\n",
        "print(\"===beni===\")\n",
        "dimsum = 3\n",
        "eskrim = 1\n",
        "Milkshake = 2\n",
        "beni = (0.30 * ((dimsum * 30000) + (eskrim * 15000) + (Milkshake * 10000 ))) +  5000\n",
        "print('total belanjaan beni adalah rp' + str(beni))\n",
        "print(\"===citra====\")\n",
        "eskrim = 3\n",
        "citra = 0 * (eskrim * 15000) +  5000\n",
        "print('total belanjaan beni adalah rp' + str(citra))\n",
        "print(\"===dadang====\")\n",
        "burger = 2\n",
        "dimsum = 1\n",
        "Milkshake = 2\n",
        "dadang = (0.20 * ((burger * 24000) + (dimsum * 30000 ))) +  5000\n",
        "print('total belanjaan beni adalah rp' + str(dadang))\n",
        "print(\"===epen====\")\n",
        "ekkado = 4\n",
        "eskrim = 1\n",
        "pizza = 1\n",
        "epen = (0.30 * ((ekkado * 7500) + (eskrim * 15000) + (pizza * 52000 ))) +  5000\n",
        "print('total belanjaan beni adalah rp' + str(epen))\n",
        "\n",
        "\n",
        "\n"
      ],
      "metadata": {
        "id": "A1P5PtweeRIU",
        "colab": {
          "base_uri": "https://localhost:8080/"
        },
        "outputId": "40740800-fafb-4e25-b712-34391528221e"
      },
      "execution_count": null,
      "outputs": [
        {
          "output_type": "stream",
          "name": "stdout",
          "text": [
            "====soal 4===\n",
            "====ahmad====\n",
            "total belanjaan ahmad adalah rp65000.0\n",
            "===beni===\n",
            "total belanjaan beni adalah rp42500.0\n",
            "===citra====\n",
            "total belanjaan beni adalah rp5000\n",
            "===dadang====\n",
            "total belanjaan beni adalah rp20600.0\n",
            "===epen====\n",
            "total belanjaan beni adalah rp34100.0\n"
          ]
        }
      ]
    },
    {
      "cell_type": "code",
      "source": [
        "print(\"===soal 5===\")\n",
        "jarak_a = 7.5\n",
        "ongkir_a = 2000\n",
        "jarak_b = 4\n",
        "ongkir_b  = 1800\n",
        "jarak_c = 8\n",
        "ongkir_c = 2000\n",
        "jarak_d = 5\n",
        "ongkir_d = 1800\n",
        "jarak_e = 12\n",
        "ongkir_e = 2200\n",
        "hasil = (jarak_a * ongkir_a) + (jarak_b * ongkir_b) + (jarak_c * ongkir_c) + (jarak_d * ongkir_d) + (jarak_e * ongkir_e)\n",
        "print (\"maka jumlah keseluruhan adalah= \" + str(hasil))\n"
      ],
      "metadata": {
        "colab": {
          "base_uri": "https://localhost:8080/"
        },
        "id": "zah3SHJ8vzJC",
        "outputId": "8740e8a5-1ad2-4779-c75b-db47f44fabf6"
      },
      "execution_count": null,
      "outputs": [
        {
          "output_type": "stream",
          "name": "stdout",
          "text": [
            "===soal 5===\n",
            "maka jumlah keseluruhan adalah= 73600.0\n"
          ]
        }
      ]
    },
    {
      "cell_type": "code",
      "source": [
        "print(\"====soal 3====\")\n",
        "print(\"====ahmad====\")\n",
        "burger = 4\n",
        "pizza = 2\n",
        "ahmad = (0.70 * ((burger * 24000) + (pizza * 52000))) + (7.5 * 2000) - 5000\n",
        "print('total belanjaan ahmad adalah rp' + str(ahmad))\n",
        "hasil = 200000 - ahmad\n",
        "print('total potongan ahmad adalah rp' + str(hasil))\n",
        "\n",
        "print(\"===beni====\")\n",
        "dimsum = 3\n",
        "eskrim = 1\n",
        "Milkshake = 2\n",
        "beni = (0.70 * ((dimsum * 30000) + (eskrim * 15000) + (Milkshake * 10000 ))) + (4 * 1800) - 5000\n",
        "print('total belanjaan beni adalah rp' + str(beni))\n",
        "hasil = 150000 - beni\n",
        "print('total potongan beni adalah rp' + str(hasil))\n",
        "print(\"===citra====\")\n",
        "eskrim = 3\n",
        "citra = + (eskrim * 15000) + (8 * 2000) - 5000\n",
        "print('total belanjaan beni adalah rp' + str(citra))\n",
        "hasil = 60000 - citra\n",
        "print('total potongan beni adalah rp' + str(hasil))\n",
        "print(\"===dadang====\")\n",
        "burger = 2\n",
        "dimsum = 1\n",
        "Milkshake = 2\n",
        "dadang = (0.80 * ((burger * 24000) + (dimsum * 30000 ))) + (5 * 1800) - 5000\n",
        "print('total belanjaan beni adalah rp' + str(dadang))\n",
        "hasil = 100000 - dadang\n",
        "print('total potongan beni adalah rp' + str(hasil))\n",
        "print(\"===epen====\")\n",
        "ekkado = 4\n",
        "eskrim = 1\n",
        "pizza = 1\n",
        "epen = (0.70 * ((ekkado * 7500) + (eskrim * 15000) + (pizza * 52000 ))) + (12 * 2200) - 5000\n",
        "print('total belanjaan beni adalah rp' + str(epen))\n",
        "hasil = 100000 - epen\n",
        "print('total potongan beni adalah rp' + str(hasil))\n",
        "\n",
        "\n"
      ],
      "metadata": {
        "id": "q9aHh4hPgDwQ",
        "colab": {
          "base_uri": "https://localhost:8080/"
        },
        "outputId": "a6021d04-9fdb-4255-c4bd-ca495a972b5a"
      },
      "execution_count": null,
      "outputs": [
        {
          "output_type": "stream",
          "name": "stdout",
          "text": [
            "====soal 3====\n",
            "====ahmad====\n",
            "total belanjaan ahmad adalah rp150000.0\n",
            "total potongan ahmad adalah rp50000.0\n",
            "===beni====\n",
            "total belanjaan beni adalah rp89700.0\n",
            "total potongan beni adalah rp60300.0\n",
            "===citra====\n",
            "total belanjaan beni adalah rp56000\n",
            "total potongan beni adalah rp4000\n",
            "===dadang====\n",
            "total belanjaan beni adalah rp66400.0\n",
            "total potongan beni adalah rp33600.0\n",
            "===epen====\n",
            "total belanjaan beni adalah rp89300.0\n",
            "total potongan beni adalah rp10700.0\n"
          ]
        }
      ]
    },
    {
      "cell_type": "code",
      "source": [],
      "metadata": {
        "id": "0fMf4pBekuHF"
      },
      "execution_count": null,
      "outputs": []
    }
  ]
}