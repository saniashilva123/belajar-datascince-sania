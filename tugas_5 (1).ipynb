{
  "cells": [
    {
      "cell_type": "code",
      "execution_count": null,
      "metadata": {
        "id": "vZM5Ci27s6Lf"
      },
      "outputs": [],
      "source": [
        "import statistics\n",
        "import pandas as pd\n",
        "import numpy as np\n",
        "from scipy import stats"
      ]
    },
    {
      "cell_type": "code",
      "execution_count": null,
      "metadata": {
        "colab": {
          "base_uri": "https://localhost:8080/"
        },
        "id": "uNVd2YBvt-a5",
        "outputId": "92bf359e-ccce-462a-8a19-6d563c9fc482"
      },
      "outputs": [
        {
          "output_type": "stream",
          "name": "stdout",
          "text": [
            "===soal 1===\n",
            "===A-Xis===\n",
            "maka pengeluaran gaji + asuransi rp7500000\n",
            "===B-Log===\n",
            "maka pengeluaran gaji + asuransi rp6090000\n",
            "===C-in===\n",
            "maka pengeluaran gaji + asuransi rp15400000\n",
            "===D-Namic===\n",
            "maka pengeluaran gaji + asuransi rp27510000\n",
            "===E-psilon===\n",
            "maka pengeluaran gaji + asuransi rp8550000\n"
          ]
        }
      ],
      "source": [
        "print(\"===soal 1===\")\n",
        "print(\"===A-Xis===\")\n",
        "a = 20\n",
        "b = 300000\n",
        "c = 75000\n",
        "hasil = ( a *  b) + (a * c)\n",
        "print(\"maka pengeluaran gaji + asuransi rp\" + str(hasil))\n",
        "print(\"===B-Log===\")\n",
        "a = 14\n",
        "b = 360000\n",
        "c = 75000\n",
        "hasil = ( a *  b) + (a * c)\n",
        "print(\"maka pengeluaran gaji + asuransi rp\" + str(hasil))\n",
        "print(\"===C-in===\")\n",
        "a = 28\n",
        "b = 475000\n",
        "c = 75000\n",
        "hasil = ( a *  b) + (a * c)\n",
        "print(\"maka pengeluaran gaji + asuransi rp\" + str(hasil))\n",
        "print(\"===D-Namic===\")\n",
        "a = 42\n",
        "b = 580000\n",
        "c = 75000\n",
        "hasil = ( a *  b) + (a * c)\n",
        "print(\"maka pengeluaran gaji + asuransi rp\" + str(hasil))\n",
        "print(\"===E-psilon===\")\n",
        "a = 18\n",
        "b = 400000\n",
        "c = 75000\n",
        "hasil = ( a *  b) + (a * c)\n",
        "print(\"maka pengeluaran gaji + asuransi rp\" + str(hasil))"
      ]
    },
    {
      "cell_type": "code",
      "execution_count": null,
      "metadata": {
        "colab": {
          "base_uri": "https://localhost:8080/",
          "height": 878
        },
        "id": "0VTAjJx3vqvA",
        "outputId": "dedc32c4-fb23-453b-bd18-acfef9bd8edd"
      },
      "outputs": [
        {
          "name": "stdout",
          "output_type": "stream",
          "text": [
            "===soal 2===\n",
            "===A-Xis===\n",
            "maka total pajak dan utang adalah :23375000.0\n",
            "===B-Log==\n",
            "maka total pajak dan utang adalah :13330000.0\n",
            "===C-in==\n",
            "maka total pajak dan utang adalah :51660000.0\n",
            "===D-Namic==\n",
            "maka total pajak dan utang adalah :62045000.0\n",
            "===E-psilon==\n",
            "maka total pajak dan utang adalah :11010000.0\n"
          ]
        },
        {
          "data": {
            "image/png": "[encoded data removed]",
            "text/plain": [
              "<Figure size 432x288 with 1 Axes>"
            ]
          },
          "metadata": {},
          "output_type": "display_data"
        },
        {
          "name": "stdout",
          "output_type": "stream",
          "text": [
            "pie char\n"
          ]
        },
        {
          "data": {
            "image/png": "[encoded data removed]",
            "text/plain": [
              "<Figure size 432x288 with 1 Axes>"
            ]
          },
          "metadata": {},
          "output_type": "display_data"
        }
      ],
      "source": [
        "print(\"===soal 2===\")\n",
        "print(\"===A-Xis===\")\n",
        "pajak = 0.03\n",
        "aset_a = 0.08\n",
        "aset_b = 0.04\n",
        "aset_c = 0.12\n",
        "aset_d = 0.11\n",
        "aset_e = 0.03\n",
        "laba_a = 32500000\n",
        "laba_b = 31000000\n",
        "laba_c= 42000000\n",
        "laba_d = 51500000\n",
        "laba_e = 27000000\n",
        "\n",
        "hasil = (laba_a * pajak) + (aset_a * 280000000)\n",
        "print(\"maka total pajak dan utang adalah :\" + str(hasil))\n",
        "print(\"===B-Log==\")\n",
        "hasil = (laba_b * pajak) + (aset_b * 310000000)\n",
        "print(\"maka total pajak dan utang adalah :\" + str(hasil))\n",
        "print(\"===C-in==\")\n",
        "hasil1 = ( pajak *laba_c ) + (aset_c * 420000000)\n",
        "print(\"maka total pajak dan utang adalah :\" + str(hasil1))\n",
        "print(\"===D-Namic==\")\n",
        "hasil1 = ( pajak *laba_d ) + (aset_d * 550000000)\n",
        "print(\"maka total pajak dan utang adalah :\" + str(hasil1))\n",
        "print(\"===E-psilon==\")\n",
        "hasil1 = ( pajak *laba_e ) + (aset_e * 340000000)\n",
        "print(\"maka total pajak dan utang adalah :\" + str(hasil1))\n",
        "\n",
        "import matplotlib.pyplot as plt\n",
        "fig = plt.figure()\n",
        "ax = fig.add_axes([0,0,1,1])\n",
        "nama = ['A-Xis','B-Log', 'C-in', 'D-Namic','E-psilon']\n",
        "hasil = [ 23375000.0, 13330000.0,  51660000.0,62045000.0, 11010000.0]\n",
        "c = ['red', 'green', 'blue']\n",
        "plt.title(\"Data perusahaan\")\n",
        "plt.bar (nama, hasil,  color = c)\n",
        "plt.show()\n",
        "print(\"pie char\")\n",
        "import matplotlib.pyplot as plt\n",
        "#pie chart\n",
        "fig = plt.figure()\n",
        "ax = fig.add_axes([0,0,1,1])\n",
        "ax.axis('equal')\n",
        "plt.title(\"data perusahaan\")\n",
        "nama = ['A-Xis','B-Log', 'C-in', 'C-in', 'E-psilon']\n",
        "hasil = [ 23375000.0, 13330000.0, 51660000.0, 62045000.0, 11010000.0 ]\n",
        "ax.pie(hasil,labels=nama,autopct='%1.2f%%')\n",
        "plt.show()\n",
        "\n",
        "\n",
        "\n",
        "\n",
        "\n"
      ]
    },
    {
      "cell_type": "code",
      "execution_count": null,
      "metadata": {
        "colab": {
          "base_uri": "https://localhost:8080/",
          "height": 792
        },
        "id": "SOAtnp_JOXBy",
        "outputId": "e337b8a3-4b71-4a49-b97e-ec03eab0c07f"
      },
      "outputs": [
        {
          "name": "stdout",
          "output_type": "stream",
          "text": [
            "===soal 3 ====\n",
            "maka csr perusahaan adalah :7000000.0\n",
            "maka csr perusahaan adalah :10850000.000000002\n",
            "maka csr perusahaan adalah :14700000.000000002\n",
            "maka csr perusahaan adalah :19250000.0\n",
            "maka csr perusahaan adalah :11900000.000000002\n"
          ]
        },
        {
          "data": {
            "image/png": "[encoded data removed]",
            "text/plain": [
              "<Figure size 432x288 with 1 Axes>"
            ]
          },
          "metadata": {},
          "output_type": "display_data"
        },
        {
          "name": "stdout",
          "output_type": "stream",
          "text": [
            "pie char\n"
          ]
        },
        {
          "data": {
            "image/png": "[encoded data removed]",
            "text/plain": [
              "<Figure size 432x288 with 1 Axes>"
            ]
          },
          "metadata": {},
          "output_type": "display_data"
        }
      ],
      "source": [
        "print(\"===soal 3 ====\")\n",
        "csr1 = 0.025\n",
        "csr2 = 0.035\n",
        "aset1 = 280000000\n",
        "aset2 = 310000000\n",
        "aset3 = 420000000\n",
        "aset4 = 550000000\n",
        "aset5 = 340000000\n",
        " \n",
        "hasil = (csr1 * 280000000)\n",
        "print('maka csr perusahaan adalah :' + str(hasil))\n",
        "hasil = (csr2 * 310000000)\n",
        "print('maka csr perusahaan adalah :' + str(hasil))\n",
        "hasil = (csr2 * 420000000)\n",
        "print('maka csr perusahaan adalah :' + str(hasil))\n",
        "hasil = (csr2 *  550000000 )\n",
        "print('maka csr perusahaan adalah :' + str(hasil))\n",
        "hasil = (csr2 *  340000000 )\n",
        "print('maka csr perusahaan adalah :' + str(hasil))\n",
        "import matplotlib.pyplot as plt\n",
        "fig = plt.figure()\n",
        "ax = fig.add_axes([0,0,1,1])\n",
        "nama = ['A-Xis','B-Log', 'C-in', 'D-Namic','E-psilon']\n",
        "hasil = [ 7000000.0, 10850000.000000002, 14700000.000000002 , 19250000.0, 11900000.000000002]\n",
        "c = ['red', 'green', 'blue']\n",
        "plt.title(\"Data perusahaan\")\n",
        "plt.bar (nama, hasil,  color = c)\n",
        "plt.show()\n",
        "print(\"pie char\")\n",
        "import matplotlib.pyplot as plt\n",
        "#pie chart\n",
        "fig = plt.figure()\n",
        "ax = fig.add_axes([0,0,1,1])\n",
        "ax.axis('equal')\n",
        "plt.title(\"data perusahaan\")\n",
        "nama = ['A-Xis','B-Log', 'C-in', 'C-in', 'E-psilon']\n",
        "hasil = [7000000.0, 10850000.000000002 ,14700000.000000002, 19250000.0, 11900000.000000002 ]\n",
        "ax.pie(hasil,labels=nama,autopct='%1.2f%%')\n",
        "plt.show()\n"
      ]
    },
    {
      "cell_type": "code",
      "execution_count": null,
      "metadata": {
        "colab": {
          "background_save": true,
          "base_uri": "https://localhost:8080/",
          "height": 130
        },
        "id": "Y2AGr6k9fYu6",
        "outputId": "5a6683dc-cf2c-4db7-e954-aee431e0b9b6"
      },
      "outputs": [
        {
          "name": "stdout",
          "output_type": "stream",
          "text": [
            "===soal 4====\n",
            "maka total laba pertahun adalah:390000000\n",
            "maka total laba pertahun adalah:372000000\n",
            "maka total laba pertahun adalah:504000000\n",
            "maka total laba pertahun adalah:618000000\n",
            "maka total laba pertahun adalah:324000000\n",
            "maka total laba keseluruhan perusahaan adalah:2208000000\n"
          ]
        }
      ],
      "source": [
        "print(\"===soal 4====\")\n",
        "a = 32500000\n",
        "b = 12\n",
        "hasil1 = (a * b)\n",
        "print(\"maka total laba pertahun adalah:\" + str(hasil1))\n",
        "\n",
        "a = 31000000\n",
        "hasil2= (a * b)\n",
        "print(\"maka total laba pertahun adalah:\" + str(hasil2))\n",
        "a = 42000000\n",
        "hasil3= (a * b)\n",
        "print(\"maka total laba pertahun adalah:\" + str(hasil3))\n",
        "a = 51500000\n",
        "\n",
        "hasil4= (a * b)\n",
        "print(\"maka total laba pertahun adalah:\" + str(hasil4))\n",
        "a = 27000000\n",
        "\n",
        "hasil5= (a * b)\n",
        "print(\"maka total laba pertahun adalah:\" + str(hasil5))\n",
        "\n",
        "hasil = hasil1 + hasil2 + hasil3 + hasil4 + hasil5\n",
        "print(\"maka total laba keseluruhan perusahaan adalah:\" + str(hasil))"
      ]
    },
    {
      "cell_type": "code",
      "source": [
        "\n",
        "laba_a = 32500000\n",
        "laba_b = 31000000\n",
        "laba_c = 42000000\n",
        "laba_d = 51500000\n",
        "laba_e = 27000000\n",
        "AXis = 20\n",
        "BLog = 14\n",
        "Cin = 28 \n",
        "DNamic = 402 \n",
        "Epsilon = 18\n",
        "csr1 = 0.25\n",
        "csr2 = 0.35\n",
        "aset1 = 280000000\n",
        "aset2 = 310000000\n",
        "aset3 = 420000000\n",
        "aset4 = 550000000\n",
        "aset5 = 340000000\n",
        "\n",
        "hasil_1 = (32500000 * 12) - 0.025 * 280000000 - (7500000 * 12) -  23375000.0\n",
        "print(hasil_1)\n",
        "\n",
        "hasil_2 = ( 31000000 * 12) - 0.035 * 310000000 - ( 6090000 * 12) - 13330000.0 \n",
        "print(hasil_2)\n",
        "\n",
        "hasil_3 = ( 42000000 * 12) - 0.035 * 420000000 - ( 15400000 * 12) - 51660000.0 \n",
        "print(hasil_3)\n",
        "\n",
        "hasil_2 = ( 51500000 * 12) - 0.035 * 550000000 - ( 27510000 * 12) - 62045000.0\n",
        "print(hasil_2)\n",
        "\n",
        "hasil_2 = ( 27000000 * 12) - 0.035 * 340000000 - ( 8550000 * 12) - 11010000.0\n",
        "print(hasil_2)\n"
      ],
      "metadata": {
        "colab": {
          "base_uri": "https://localhost:8080/"
        },
        "id": "IJTA9-CruQ1z",
        "outputId": "9cf66e73-6a10-441b-b5ec-06060e5a8071"
      },
      "execution_count": null,
      "outputs": [
        {
          "output_type": "stream",
          "name": "stdout",
          "text": [
            "269625000.0\n",
            "274740000.0\n",
            "252840000.0\n",
            "206585000.0\n",
            "198490000.0\n"
          ]
        }
      ]
    }
  ],
  "metadata": {
    "colab": {
      "provenance": []
    },
    "kernelspec": {
      "display_name": "Python 3",
      "name": "python3"
    },
    "language_info": {
      "name": "python"
    }
  },
  "nbformat": 4,
  "nbformat_minor": 0
}