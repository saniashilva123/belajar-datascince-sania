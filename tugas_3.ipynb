{
  "nbformat": 4,
  "nbformat_minor": 0,
  "metadata": {
    "colab": {
      "provenance": []
    },
    "kernelspec": {
      "name": "python3",
      "display_name": "Python 3"
    },
    "language_info": {
      "name": "python"
    }
  },
  "cells": [
    {
      "cell_type": "code",
      "execution_count": null,
      "metadata": {
        "id": "_tssGVjweytx"
      },
      "outputs": [],
      "source": [
        "\n",
        "import statistics\n",
        "import pandas as pd\n",
        "import numpy as np\n",
        "from scipy import stats"
      ]
    },
    {
      "cell_type": "code",
      "source": [
        "print(\"====01=====\")\n",
        "print (\"=== mengikuti ekstakulikuler====\")\n",
        "a = 5\n",
        "b = 18\n",
        "c = 30\n",
        "d = 7\n",
        "e = 16\n",
        "f = 19\n",
        "g = 12\n",
        " \n",
        "hasil = (a + b) + (c + d) + (e + f + g)\n",
        "print (\"maka jumlah orang yang mengikuti ekstakulikuler adalah= \" + str(hasil))\n",
        "\n",
        "import matplotlib.pyplot as plt\n",
        "fig = plt.figure()\n",
        "ax = fig.add_axes([0,0,1,1])\n",
        "mengikuti = ['paskibra','pmr', 'pramuka', 'futsal', 'voly', 'kesenian', 'rois']\n",
        "jumlah = [5, 18, 30, 7,16, 19,12 ]\n",
        "c = ['red', 'green', 'blue']\n",
        "plt.title(\"mengikuti\")\n",
        "plt.bar (mengikuti, jumlah,  color = c)\n",
        "plt.show()\n",
        "\n",
        "\n",
        "\n",
        "\n"
      ],
      "metadata": {
        "colab": {
          "base_uri": "https://localhost:8080/",
          "height": 404
        },
        "id": "kqNOZpo_i-MX",
        "outputId": "112d3e80-3d82-4423-b9cf-40f22aa761fe"
      },
      "execution_count": null,
      "outputs": [
        {
          "output_type": "stream",
          "name": "stdout",
          "text": [
            "====01=====\n",
            "=== mengikuti ekstakulikuler====\n",
            "maka jumlah orang yang mengikuti ekstakulikuler adalah= 107\n"
          ]
        },
        {
          "output_type": "display_data",
          "data": {
            "text/plain": [
              "<Figure size 432x288 with 1 Axes>"
            ],
            "image/png": "[encoded data removed]"
          },
          "metadata": {
            "needs_background": "light"
          }
        }
      ]
    },
    {
      "cell_type": "code",
      "source": [
        "print(\"====soal 2====\")\n",
        "print (\"=== mengikuti paskibra====\")\n",
        "a = 5\n",
        "b = 21\n",
        "c = 6\n",
        "\n",
        " \n",
        "hasil = (a + b) + (c)\n",
        "print (\"maka jumlah orang yang mengikuti ekstakulikuler  paskibra adalah= \" + str(hasil))\n",
        "\n",
        "print (\"=== mengikuti pmr====\")\n",
        "a = 18\n",
        "b = \n",
        "c = 12\n",
        "\n",
        " \n",
        "hasil = (a + b) + (c)\n",
        "print (\"maka jumlah orang yang mengikuti ekstakulikuler  pmr adalah= \" + str(hasil))\n",
        "\n",
        "\n",
        "print (\"=== mengikuti pramuka====\")\n",
        "a = 30\n",
        "b = 8\n",
        "c = 24\n",
        "\n",
        " \n",
        "hasil = (a + b) + (c)\n",
        "print (\"maka jumlah orang yang mengikuti ekstakulikuler  pramuka adalah= \" + str(hasil))\n",
        "\n",
        "\n",
        "print (\"=== mengikuti futsal====\")\n",
        "a = 7\n",
        "b = 29\n",
        "c = 15\n",
        "\n",
        " \n",
        "hasil = (a + b) + (c)\n",
        "print (\"maka jumlah orang yang mengikuti ekstakulikuler  futsal adalah= \" + str(hasil))\n",
        "\n",
        "\n",
        "print (\"=== mengikuti voly====\")\n",
        "a = 16\n",
        "b = 10\n",
        "c = 12\n",
        "\n",
        " \n",
        "hasil = (a + b) + (c)\n",
        "print (\"maka jumlah orang yang mengikuti ekstakulikuler  voly adalah= \" + str(hasil))\n",
        "\n",
        "print (\"=== mengikuti kesenian====\")\n",
        "a = 19\n",
        "b = 18\n",
        "c = 4\n",
        "\n",
        " \n",
        "hasil = (a + b) + (c)\n",
        "print (\"maka jumlah orang yang mengikuti ekstakulikuler  kesenian adalah= \" + str(hasil))\n",
        "\n",
        "print (\"=== mengikuti rois====\")\n",
        "a = 12\n",
        "b = 10\n",
        "c = 7\n",
        "\n",
        " \n",
        "hasil = (a + b) + (c)\n",
        "print (\"maka jumlah orang yang mengikuti ekstakulikuler  rois adalah= \" + str(hasil))\n",
        "\n",
        "import matplotlib.pyplot as plt\n",
        "fig = plt.figure()\n",
        "ax = fig.add_axes([0,0,1,1])\n",
        "mengikuti = ['paskibra','pmr', 'pramuka', 'futsal', 'voly', 'kesenian', 'rohis']\n",
        "jumlah = [32, 34, 62, 51, 38, 41, 29]\n",
        "c = ['red', 'green', 'blue']\n",
        "plt.title(\"mengikuti\")\n",
        "plt.bar (mengikuti, jumlah,  color = c)\n",
        "plt.show()"
      ],
      "metadata": {
        "colab": {
          "base_uri": "https://localhost:8080/",
          "height": 612
        },
        "id": "-140mUEtmu7x",
        "outputId": "352f2991-3f6b-4f18-e2b0-e23b7a6cc3f0"
      },
      "execution_count": null,
      "outputs": [
        {
          "output_type": "stream",
          "name": "stdout",
          "text": [
            "====soal 2====\n",
            "=== mengikuti paskibra====\n",
            "maka jumlah orang yang mengikuti ekstakulikuler  paskibra adalah= 32\n",
            "=== mengikuti pmr====\n",
            "maka jumlah orang yang mengikuti ekstakulikuler  pmr adalah= 34\n",
            "=== mengikuti pramuka====\n",
            "maka jumlah orang yang mengikuti ekstakulikuler  pramuka adalah= 62\n",
            "=== mengikuti futsal====\n",
            "maka jumlah orang yang mengikuti ekstakulikuler  futsal adalah= 51\n",
            "=== mengikuti voly====\n",
            "maka jumlah orang yang mengikuti ekstakulikuler  voly adalah= 38\n",
            "=== mengikuti kesenian====\n",
            "maka jumlah orang yang mengikuti ekstakulikuler  kesenian adalah= 41\n",
            "=== mengikuti rois====\n",
            "maka jumlah orang yang mengikuti ekstakulikuler  rois adalah= 29\n"
          ]
        },
        {
          "output_type": "display_data",
          "data": {
            "text/plain": [
              "<Figure size 432x288 with 1 Axes>"
            ],
            "image/png": "[encoded data removed]"
          },
          "metadata": {
            "needs_background": "light"
          }
        }
      ]
    },
    {
      "cell_type": "code",
      "source": [
        "print(\"====soal 3====\")\n",
        "\n",
        "print (\"=== olahraga futsal voly====\")\n",
        "a = 7\n",
        "b = 29\n",
        "c = 15\n",
        "d = 16\n",
        "e = 10\n",
        "f = 12\n",
        "hasil = (a + b ) + (c + d) + (e + f)\n",
        "print (\"maka jumlah orang yang mengikuti ekstakulikuler olahraga adalah= \" + str(hasil))\n",
        "\n",
        "a = 107\n",
        "b = 100\n",
        "c = 80\n",
        "d = 89\n",
        "hasil = (a + b + c ) \n",
        "total = ( hasil - d)\n",
        "print (\"maka jumlah orang yang mengikuti  olahraga adalah= \" + str(hasil))\n",
        "print (\"maka hasil yang dikurangi dengan  olahraga dan mengikuti adalah= \" + str(total))\n",
        "\n",
        "\n",
        "print (\"=== tidak mengikuti====\")\n",
        "a = 17\n",
        "b = 8\n",
        "c = 20\n",
        "\n",
        "hasil = (a + b ) + (c)\n",
        "print (\"maka jumlah orang yang tidak mengikuti ekstakulikuler olahraga adalah= \" + str(hasil))\n",
        "\n",
        "import matplotlib.pyplot as plt\n",
        "fig = plt.figure()\n",
        "ax = fig.add_axes([0,0,1,1])\n",
        "eskul = ['olahraga','mengikuti', 'tidak mengikuti']\n",
        "hasil = [ 89, 198, 45, ]\n",
        "c = ['red', 'green', 'blue']\n",
        "plt.title(\"mengikuti tidak mengikuti\")\n",
        "plt.bar (eskul, hasil,  color = c)\n",
        "plt.show()\n",
        "print(\"pie char\")\n",
        "import matplotlib.pyplot as plt\n",
        "#pie chart\n",
        "fig = plt.figure()\n",
        "ax = fig.add_axes([0,0,1,1])\n",
        "ax.axis('equal')\n",
        "plt.title(\"mengikuti tidak mengikuti\")\n",
        "eskul = ['olahraga','mengikuti', 'tidak mengikuti']\n",
        "hasil = [ 89, 198, 45, ]\n",
        "ax.pie(hasil,labels=eskul,autopct='%1.2f%%')\n",
        "plt.show()\n",
        "\n",
        "print(\"presentaseu\")\n",
        "a = 89\n",
        "b = 198\n",
        "c = 45\n",
        "hasil = (a + b + c)\n",
        "print (\"maka hasil dari seluruhnya adalah= \" + str(hasil))\n",
        "pers = a  * 100 / hasil\n",
        "print (\"maka hasil dari presentase adalah= \" + str(pers))\n",
        "pers = b * 100 / hasil\n",
        "print (\"maka hasil dari presentase adalah= \" + str(pers))\n",
        "pers = c * 100   / hasil\n",
        "print (\"maka hasil dari presentase adalah= \" + str(pers))\n",
        "\n",
        "\n",
        "\n",
        "\n",
        "\n",
        "\n",
        "\n"
      ],
      "metadata": {
        "colab": {
          "base_uri": "https://localhost:8080/",
          "height": 907
        },
        "id": "nEkrNXexqSMg",
        "outputId": "04b8b3c4-7a9d-4efa-eefe-f9ae18c64344"
      },
      "execution_count": null,
      "outputs": [
        {
          "output_type": "stream",
          "name": "stdout",
          "text": [
            "====soal 3====\n",
            "=== olahraga futsal voly====\n",
            "maka jumlah orang yang mengikuti ekstakulikuler olahraga adalah= 89\n",
            "maka jumlah orang yang mengikuti  olahraga adalah= 287\n",
            "maka hasil yang dikurangi dengan  olahraga dan mengikuti adalah= 198\n",
            "=== tidak mengikuti====\n",
            "maka jumlah orang yang tidak mengikuti ekstakulikuler olahraga adalah= 45\n"
          ]
        },
        {
          "output_type": "display_data",
          "data": {
            "text/plain": [
              "<Figure size 432x288 with 1 Axes>"
            ],
            "image/png": "[encoded data removed]"
          },
          "metadata": {
            "needs_background": "light"
          }
        },
        {
          "output_type": "stream",
          "name": "stdout",
          "text": [
            "pie char\n"
          ]
        },
        {
          "output_type": "display_data",
          "data": {
            "text/plain": [
              "<Figure size 432x288 with 1 Axes>"
            ],
            "image/png": "[encoded data removed]"
          },
          "metadata": {}
        },
        {
          "output_type": "stream",
          "name": "stdout",
          "text": [
            "presentaseu\n",
            "maka hasil dari seluruhnya adalah= 332\n",
            "maka hasil dari presentase adalah= 26.80722891566265\n",
            "maka hasil dari presentase adalah= 59.63855421686747\n",
            "maka hasil dari presentase adalah= 13.55421686746988\n"
          ]
        }
      ]
    },
    {
      "cell_type": "code",
      "source": [
        "print(\"==== soal 4====\")\n",
        "a = 17\n",
        "b = 8\n",
        "c = 20\n",
        "hasil = (a + b + c)\n",
        "print (\"maka hasil dari seluruhnya adalah= \" + str(hasil))\n",
        "pers = a  * 100 / hasil\n",
        "print (\"maka hasil dari presentase adalah= \" + str(pers))\n",
        "pers = b * 100 / hasil\n",
        "print (\"maka hasil dari presentase adalah= \" + str(pers))\n",
        "pers = c * 100   / hasil\n",
        "print (\"maka hasil dari presentase adalah= \" + str(pers))\n",
        "\n",
        "import matplotlib.pyplot as plt\n",
        "#pie chart\n",
        "fig = plt.figure()\n",
        "ax = fig.add_axes([0,0,1,1])\n",
        "ax.axis('equal')\n",
        "plt.title(\"mengikuti tidak mengikuti\")\n",
        "kelas = ['kelas 10','kelas 11', 'kelas 12']\n",
        "hasil = [ 17, 8, 20, ]\n",
        "ax.pie(hasil,labels=kelas,autopct='%1.2f%%')\n",
        "plt.show()\n"
      ],
      "metadata": {
        "colab": {
          "base_uri": "https://localhost:8080/",
          "height": 426
        },
        "id": "AOlutz-zkEdi",
        "outputId": "42226501-21f9-4f22-b80b-947b9675b0d7"
      },
      "execution_count": null,
      "outputs": [
        {
          "output_type": "stream",
          "name": "stdout",
          "text": [
            "==== soal 4====\n",
            "maka hasil dari seluruhnya adalah= 45\n",
            "maka hasil dari presentase adalah= 37.77777777777778\n",
            "maka hasil dari presentase adalah= 17.77777777777778\n",
            "maka hasil dari presentase adalah= 44.44444444444444\n"
          ]
        },
        {
          "output_type": "display_data",
          "data": {
            "text/plain": [
              "<Figure size 432x288 with 1 Axes>"
            ],
            "image/png": "[encoded data removed]"
          },
          "metadata": {}
        }
      ]
    },
    {
      "cell_type": "code",
      "source": [
        "print (\"===soal 5====\")\n",
        "print (\"===kelas 10====\")\n",
        "a = 5\n",
        "b = 18\n",
        "c = 30 \n",
        "d = 7\n",
        "e = 16\n",
        "f = 19\n",
        "g = 12\n",
        "hasil = ( a + b ) + (c + d) + (e + f + g)\n",
        "print (\"maka jumlah dari kelas 10 adalah= \" + str(hasil))\n",
        "print (\"===kelas 11====\")\n",
        "a = 21\n",
        "b = 4\n",
        "c = 8 \n",
        "d = 29\n",
        "e = 10\n",
        "f = 18\n",
        "g = 10\n",
        "hasil = ( a + b ) + (c + d) + (e + f + g)\n",
        "print (\"maka jumlah dari kelas 11 adalah= \" + str(hasil))\n",
        "print (\"===kelas 12====\")\n",
        "a = 6\n",
        "b = 12\n",
        "c = 24\n",
        "d = 15\n",
        "e = 12\n",
        "f = 4\n",
        "g = 7\n",
        "hasil = ( a + b ) + (c + d) + (e + f + g)\n",
        "print (\"maka jumlah dari kelas 12 adalah= \" + str(hasil))\n",
        "\n",
        "\n",
        "import matplotlib.pyplot as plt\n",
        "fig = plt.figure()\n",
        "ax = f\n",
        "ig.add_axes([0,0,1,1])\n",
        "kelas = ['kelas 10','kelas 11', 'kelas 12']\n",
        "hasil = [ 107, 100, 80, ]\n",
        "c = ['red', 'green', 'blue']\n",
        "plt.title(\"mengikuti tidak mengikuti\")\n",
        "plt.bar (kelas, hasil,  color = c)\n",
        "plt.show()\n",
        "print(\"pie char\")\n",
        "import matplotlib.pyplot as plt\n",
        "#pie chart\n",
        "fig = plt.figure()\n",
        "ax = fig.add_axes([0,0,1,1])\n",
        "ax.axis('equal')\n",
        "plt.title(\"mengikuti tidak mengikuti\")\n",
        "kelas = ['kelas 10','kelas 11', 'kelas 12']\n",
        "hasil = [ 107, 100, 80, ]\n",
        "ax.pie(hasil,labels=kelas,autopct='%1.2f%%')\n",
        "plt.show()"
      ],
      "metadata": {
        "colab": {
          "base_uri": "https://localhost:8080/",
          "height": 816
        },
        "id": "VJXFjS7RmY9y",
        "outputId": "5d121856-f92f-48ff-8368-d80d0c9f1468"
      },
      "execution_count": null,
      "outputs": [
        {
          "output_type": "stream",
          "name": "stdout",
          "text": [
            "===soal 5====\n",
            "===kelas 10====\n",
            "maka jumlah dari kelas 10 adalah= 107\n",
            "===kelas 11====\n",
            "maka jumlah dari kelas 11 adalah= 100\n",
            "===kelas 12====\n",
            "maka jumlah dari kelas 12 adalah= 80\n"
          ]
        },
        {
          "output_type": "display_data",
          "data": {
            "text/plain": [
              "<Figure size 432x288 with 1 Axes>"
            ],
            "image/png": "[encoded data removed]"
          },
          "metadata": {
            "needs_background": "light"
          }
        },
        {
          "output_type": "stream",
          "name": "stdout",
          "text": [
            "pie char\n"
          ]
        },
        {
          "output_type": "display_data",
          "data": {
            "text/plain": [
              "<Figure size 432x288 with 1 Axes>"
            ],
            "image/png": "[encoded data removed]"
          },
          "metadata": {}
        }
      ]
    }
  ]
}